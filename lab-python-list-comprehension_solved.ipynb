{
 "cells": [
  {
   "cell_type": "markdown",
   "id": "25d7736c-ba17-4aff-b6bb-66eba20fbf4e",
   "metadata": {},
   "source": [
    "# Lab | List, Dict and Set Comprehension"
   ]
  },
  {
   "cell_type": "markdown",
   "id": "7dd3cbde-675a-4b81-92c3-f728846dbe06",
   "metadata": {},
   "source": [
    "## Exercise: Managing Customer Orders Optimized with Comprehension"
   ]
  },
  {
   "cell_type": "markdown",
   "id": "5d500160-2fb7-4777-b5e4-09d45ebaf328",
   "metadata": {},
   "source": [
    "In the previous exercise, you developed a program to manage customer orders and inventory. Now, let's take it a step further and incorporate comprehension into your code.\n",
    "\n",
    "Follow the steps below to complete the exercise:\n",
    "\n",
    "1. Review your code from the previous exercise and identify areas where you can apply comprehension to simplify and streamline your code. \n",
    "\n",
    "    - *Hint: Apply it to initialize inventory, updating the inventory and printing the updated inventory.*\n",
    "    \n",
    "    - For example, in initializing the inventory, we could have:\n",
    "    \n",
    "        ```python\n",
    "        def initialize_inventory(products):\n",
    "            inventory = {product: int(input(f\"Enter the quantity of {product}s available: \")) for product in products}\n",
    "            return inventory\n",
    "\n",
    "        ```\n",
    "<br>\n",
    "    \n",
    "    \n",
    "2. Modify the function get_customer_orders so it prompts the user to enter the number of customer orders and gathers the product names using a loop and user input. Use comprehension.\n",
    "\n",
    "3. Add a new function to calculate the total price of the customer order. For each product in customer_orders, prompt the user to enter the price of that product. Use comprehension to calculate the total price. Note: assume that the user can only have 1 unit of each product.\n",
    "\n",
    "4. Modify the update_inventory function to remove the product from the inventory if its quantity becomes zero after fulfilling the customer orders. Use comprehension to filter out the products with a quantity of zero from the inventory.\n",
    "\n",
    "5. Print the total price of the customer order.\n",
    "\n",
    "Your code should produce output similar to the following:\n",
    "\n",
    "```python\n",
    "Enter the quantity of t-shirts available:  5\n",
    "Enter the quantity of mugs available:  4\n",
    "Enter the quantity of hats available:  3\n",
    "Enter the quantity of books available:  2\n",
    "Enter the quantity of keychains available:  1\n",
    "Enter the number of customer orders:  2\n",
    "Enter the name of a product that a customer wants to order:  hat\n",
    "Enter the name of a product that a customer wants to order:  keychain\n",
    "\n",
    "Order Statistics:\n",
    "Total Products Ordered: 2\n",
    "Percentage of Unique Products Ordered: 40.0\n",
    "\n",
    "Updated Inventory:\n",
    "t-shirt: 5\n",
    "mug: 4\n",
    "hat: 2\n",
    "book: 2\n",
    "Enter the price of keychain:  5\n",
    "Enter the price of hat:  10\n",
    "Total Price: 15.0\n",
    "\n",
    "```\n"
   ]
  },
  {
   "cell_type": "markdown",
   "id": "3eecc199",
   "metadata": {},
   "source": []
  },
  {
   "cell_type": "markdown",
   "id": "1824f57a",
   "metadata": {},
   "source": [
    "1. Review your code from the previous exercise and identify areas where you can apply comprehension to simplify and streamline your code. \n",
    "\n",
    "    - *Hint: Apply it to initialize inventory, updating the inventory and printing the updated inventory.*\n",
    "    \n",
    "    - For example, in initializing the inventory, we could have:\n",
    "    \n",
    "        ```python\n",
    "        def initialize_inventory(products):\n",
    "            inventory = {product: int(input(f\"Enter the quantity of {product}s available: \")) for product in products}\n",
    "            return inventory\n",
    "\n",
    "        ```\n",
    "    "
   ]
  },
  {
   "cell_type": "code",
   "execution_count": 1,
   "id": "c7451adb",
   "metadata": {},
   "outputs": [],
   "source": [
    "products = [\"t-shirt\", \"mug\", \"hat\", \"book\", \"keychain\"]"
   ]
  },
  {
   "cell_type": "code",
   "execution_count": 2,
   "id": "83363dba",
   "metadata": {},
   "outputs": [
    {
     "data": {
      "text/plain": [
       "{'t-shirt': 1, 'mug': 2, 'hat': 3, 'book': 4, 'keychain': 5}"
      ]
     },
     "execution_count": 2,
     "metadata": {},
     "output_type": "execute_result"
    }
   ],
   "source": [
    "inventory = {}\n",
    "def initialize_inventory(products:list)->dict:\n",
    "    \"\"\"\n",
    "    This function, gets the global variable inventory and puts it within the function initialize_invenotry.\n",
    "    Once done, it creates comprehension dictionary where the key is product from product list and the value is input by the user.\n",
    "    \"\"\"\n",
    "    global inventory\n",
    "    inventory = {product: int(input(f\"Enter the quantity of {product}s available: \")) for product in products}\n",
    "    \n",
    "\n",
    "initialize_inventory(products)\n",
    "inventory\n",
    "\n"
   ]
  },
  {
   "cell_type": "code",
   "execution_count": 3,
   "id": "9d03a176",
   "metadata": {},
   "outputs": [],
   "source": [
    "customer_orders = set()"
   ]
  },
  {
   "cell_type": "code",
   "execution_count": 4,
   "id": "67d5a6e0",
   "metadata": {},
   "outputs": [],
   "source": [
    "def get_customer_orders()->set:\n",
    "    \"\"\"\n",
    "    This function, gets the global variable customer_orders and puts it within the function initialize_invenotry.\n",
    "    It starts by saying customer_orders(outside variable) is a comprehesnion set. The customer inputs an order and if the order is on product, append to the set.\n",
    "    To continue ordering, a question (yes/no) is being asked.\n",
    "        1. If question is yes, then we create a new_customer_order comprehsnion set, with the same strucutre as coustomer_orders.\n",
    "            a. And we update customer order with new_customer orders. If we use add, we can only add 1 element to a set, so by using update everything is updated.\n",
    "            b. We set questions again to see the customer wants to continue ordering.\n",
    "        2. If answer is no, print (Thank you for purchasing)\n",
    "    \"\"\"\n",
    "    global customer_orders \n",
    "    \n",
    "    customer_orders = {order for order in input('Enter your order/s:').split() if order in products}\n",
    "    print(type(customer_orders))\n",
    "    question = input('would you like to order something else \"yes/no\":')\n",
    "    while question == \"yes\":\n",
    "            new_customer_orders = {order for order in input('Enter another order:').split() if order in products }\n",
    "            customer_orders.update(new_customer_orders)\n",
    "            question = input('Would you like to order anything else? \"yes/no\":')\n",
    "    else:\n",
    "        print('Thank you for you purchase')\n",
    "    return customer_orders"
   ]
  },
  {
   "cell_type": "code",
   "execution_count": 5,
   "id": "7cdd530a",
   "metadata": {},
   "outputs": [
    {
     "name": "stdout",
     "output_type": "stream",
     "text": [
      "<class 'set'>\n",
      "Thank you for you purchase\n"
     ]
    },
    {
     "data": {
      "text/plain": [
       "{'hat', 'keychain', 'mug'}"
      ]
     },
     "execution_count": 5,
     "metadata": {},
     "output_type": "execute_result"
    }
   ],
   "source": [
    "get_customer_orders()"
   ]
  },
  {
   "cell_type": "code",
   "execution_count": 6,
   "id": "1fe0da09",
   "metadata": {},
   "outputs": [],
   "source": [
    "def update_inventory(customer_orders:set,inventario:dict)->dict: \n",
    "    \"\"\"\n",
    "    for the first version of update_invenotry we start by calling the global variable invenotry.\n",
    "    Once done, we create a comprehension dictionary that will replace the current version of invenotry.\n",
    "    we want to retrun key and (value -1) from items if the key is in customer orders. In other words, substract 1 when a order is done.\n",
    "    \"\"\"\n",
    "    global inventory\n",
    "    inventory = {k:v-1 if k in customer_orders else v \n",
    "                     for k,v in inventario.items()}\n",
    "    return inventory\n",
    "\n"
   ]
  },
  {
   "cell_type": "code",
   "execution_count": 7,
   "id": "bce8805b",
   "metadata": {},
   "outputs": [
    {
     "data": {
      "text/plain": [
       "{'t-shirt': 1, 'mug': 1, 'hat': 2, 'book': 4, 'keychain': 4}"
      ]
     },
     "execution_count": 7,
     "metadata": {},
     "output_type": "execute_result"
    }
   ],
   "source": [
    "update_inventory(customer_orders,inventory)"
   ]
  },
  {
   "cell_type": "markdown",
   "id": "51a8360f",
   "metadata": {},
   "source": [
    "2. Modify the function get_customer_orders so it prompts the user to enter the number of customer orders and gathers the product names using a loop and user input. Use comprehension."
   ]
  },
  {
   "cell_type": "code",
   "execution_count": 127,
   "id": "001b789b",
   "metadata": {},
   "outputs": [],
   "source": [
    "# def get_customer_orders():\n",
    "#     global customer_orders # customer_order se referíra a la variable externa customer_order\n",
    "    \n",
    "#     customer_orders = {order for order in input('Enter your order/s:').split() if order in products}\n",
    "#     print(type(customer_orders))\n",
    "#     question = input('would you like to order something else \"yes/no\":')\n",
    "#     while question == \"yes\":\n",
    "#             new_customer_orders = {order for order in input('Enter another order:').split() if order in products }\n",
    "#             customer_orders.update(new_customer_orders)\n",
    "#             question = input('Would you like to order anything else? \"yes/no\":')\n",
    "#     else:\n",
    "#         print('Thank you for you purchase')\n",
    "#     return customer_orders\n",
    "\n",
    "# get_customer_orders()      \n",
    "                           \n",
    "\n",
    "   \n",
    "\n"
   ]
  },
  {
   "cell_type": "markdown",
   "id": "c68db12e",
   "metadata": {},
   "source": [
    "3. Add a new function to calculate the total price of the customer order. For each product in customer_orders, prompt the user to enter the price of that product. Use comprehension to calculate the total price. Note: assume that the user can only have 1 unit of each product."
   ]
  },
  {
   "cell_type": "code",
   "execution_count": 8,
   "id": "98159610",
   "metadata": {},
   "outputs": [],
   "source": [
    "product_price ={}\n",
    "\n",
    "def product_price(products:list)->dict:\n",
    "    \"\"\"\n",
    "    Here we are creating a a new dictionary where we gather for each product, their price.\n",
    "    Outside the function, I am creating a variable product_price that will be updated within the function.\n",
    "    Like invenotry, the value is an input by the user who will set the prices. \n",
    "    \"\"\"\n",
    "    global product_price\n",
    "    product_price = {product:int(input(f'enter the price for {product}')) for product in products}\n",
    "    return product_price"
   ]
  },
  {
   "cell_type": "code",
   "execution_count": 9,
   "id": "94a879a9",
   "metadata": {},
   "outputs": [
    {
     "data": {
      "text/plain": [
       "{'t-shirt': 10, 'mug': 20, 'hat': 30, 'book': 40, 'keychain': 50}"
      ]
     },
     "execution_count": 9,
     "metadata": {},
     "output_type": "execute_result"
    }
   ],
   "source": [
    "product_price(products)"
   ]
  },
  {
   "cell_type": "code",
   "execution_count": null,
   "id": "c57d6cf7",
   "metadata": {},
   "outputs": [],
   "source": [
    "#para hacer la comprehension he hecho primero el for loop tradicional. Después, lo he pasado a price\n",
    "# for product,price in product_price.items():\n",
    "#     for order in customer_orders:\n",
    "#         if order in product:\n",
    "#             print(price)"
   ]
  },
  {
   "cell_type": "code",
   "execution_count": 11,
   "id": "b8bd4761",
   "metadata": {},
   "outputs": [],
   "source": [
    "def total_customer_order(product_price:dict, customer_orders:set):\n",
    "\n",
    "    \"\"\"\n",
    "    First total_order_amount is a list that will give me the price of the customers_ordrs based on product_price dictionary created previously.\n",
    "    Once the list is created ie) [10,20] in the return, i am calculaitng the sum of total_order amount so that the amount is displayed \n",
    "    \"\"\"\n",
    "    total_order_amount = [price \n",
    "                for product,price in product_price.items()\n",
    "                for order in customer_orders if order in product\n",
    "                ]\n",
    "    print(total_order_amount)\n",
    "    total_products_ordered = len(customer_orders)\n",
    "    return print(f\"the number of products ordered is {total_products_ordered} and price is {sum(total_order_amount)}\")\n",
    "    "
   ]
  },
  {
   "cell_type": "code",
   "execution_count": 12,
   "id": "e9b4a282",
   "metadata": {},
   "outputs": [
    {
     "name": "stdout",
     "output_type": "stream",
     "text": [
      "[20, 30, 50]\n",
      "the number of products ordered is 3 and price is 100\n"
     ]
    }
   ],
   "source": [
    "total_customer_order(product_price, customer_orders)"
   ]
  },
  {
   "cell_type": "markdown",
   "id": "a5116f14",
   "metadata": {},
   "source": [
    "4. Modify the update_inventory function to remove the product from the inventory if its quantity becomes zero after fulfilling the customer orders. Use comprehension to filter out the products with a quantity of zero from the inventory."
   ]
  },
  {
   "cell_type": "code",
   "execution_count": 13,
   "id": "4c948592",
   "metadata": {},
   "outputs": [],
   "source": [
    "def update_inventory_v2(customer_orders,inventario): \n",
    "    \"\"\"\n",
    "    Partiendo de la función uopdate_invenotry.\n",
    "    para poder actualizar invenotry, sólo necesito que me aparezcan aquellas donde el qty sea mayor que 0\n",
    "    El resultado que quiero es (v-1 if k in customer_orders else v > 0 )\n",
    "        1. Es decir, en función de lo que he puesto en k:v, filtro por todo aquello en que la condición que he puesto para v sea>0\n",
    "        y lo pongo al final para poder filtrar inventario por los que cumplan esa condición.\n",
    "    \n",
    "    \"\"\"\n",
    "    global inventory\n",
    "    inventory = {k:v-1 if k in customer_orders else v \n",
    "                     for k,v in inventario.items() \n",
    "                                    if (v-1 if k in customer_orders else v)\n",
    "                                    }  \n",
    "    return inventory"
   ]
  },
  {
   "cell_type": "code",
   "execution_count": 14,
   "id": "913db6db",
   "metadata": {},
   "outputs": [
    {
     "data": {
      "text/plain": [
       "{'t-shirt': 1, 'hat': 1, 'book': 4, 'keychain': 3}"
      ]
     },
     "execution_count": 14,
     "metadata": {},
     "output_type": "execute_result"
    }
   ],
   "source": [
    "update_inventory_v2(customer_orders,inventory)"
   ]
  },
  {
   "cell_type": "markdown",
   "id": "45cdc198",
   "metadata": {},
   "source": [
    "5. Print the total price of the customer order."
   ]
  },
  {
   "cell_type": "code",
   "execution_count": 15,
   "id": "95038f55",
   "metadata": {},
   "outputs": [
    {
     "name": "stdout",
     "output_type": "stream",
     "text": [
      "[20, 30, 50]\n",
      "the number of products ordered is 3 and price is 100\n"
     ]
    }
   ],
   "source": [
    "total_customer_order(product_price, customer_orders)"
   ]
  },
  {
   "cell_type": "code",
   "execution_count": null,
   "id": "38ed4eaf",
   "metadata": {},
   "outputs": [],
   "source": []
  }
 ],
 "metadata": {
  "kernelspec": {
   "display_name": "Python 3",
   "language": "python",
   "name": "python3"
  },
  "language_info": {
   "codemirror_mode": {
    "name": "ipython",
    "version": 3
   },
   "file_extension": ".py",
   "mimetype": "text/x-python",
   "name": "python",
   "nbconvert_exporter": "python",
   "pygments_lexer": "ipython3",
   "version": "3.9.6"
  }
 },
 "nbformat": 4,
 "nbformat_minor": 5
}
